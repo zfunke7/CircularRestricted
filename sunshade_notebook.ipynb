{
 "cells": [
  {
   "cell_type": "markdown",
   "id": "ec212a8a",
   "metadata": {},
   "source": [
    "# CircularRestricted.py\n",
    "\n",
    "The CircularRestricted package is a Python utility for modeling the orbital motion of a satellite in multi-body gravipotential regimes, such as the Earth-Moon system, or the Earth-Sun system. Where possible, math operations are accelerated by pre-compiling in C using Numba. \n",
    "\n",
    "## Circular Restricted Three-Body Problem\n",
    "\n",
    "The most basic multi-body problem is the CR3BP problem. Under this formulation, the satellite's motion is expressed relative to a common barycenter shared by two massive bodies. These bodies are assumed to have perfectly circular orbits about their common barycenter, such that their orbits share a constant angular rate. By choosing a rotating reference frame based on this constant angular rate whose origin is fixed at the barycenter, the more-massive (primary) body can be fixed on the negative *X* axis and the less-massive (secondary) body is fixed on the postive *X* axis. The positive *Y* direction is defined as the direction of the secondary body's tangential orbit velocity, and the *Z* axis completes the right-handed axis system (and is parallel to the secondary body's angular momentum vector). In this formulation, there are 5 equilibrium points (called Lagrange points) in the gravipotential field. Three lie on the *X* axis, and are unstable equilibria (saddle points); the remaining two are vertices of two equilateral triangles where the other two vertices are the center of the primary and secondary bodies, and are stable equilibria. "
   ]
  },
  {
   "cell_type": "markdown",
   "id": "458a70c2",
   "metadata": {},
   "source": [
    "## Example 1: Instantiating a scenario\n",
    "\n",
    "First, import the CR3BP class from CircularRestricted.py. You will also need to provide input values as AstroPy units. The Poliastro package also makes it easy to access constants of certain celestial bodies, so we will import those as well."
   ]
  },
  {
   "cell_type": "code",
   "execution_count": 1,
   "id": "692ae9f7",
   "metadata": {},
   "outputs": [],
   "source": [
    "from CircularRestricted import CR3BP\n",
    "from astropy import units as u\n",
    "from poliastro.bodies import Sun, Moon, Earth"
   ]
  },
  {
   "cell_type": "markdown",
   "id": "4e77cc97",
   "metadata": {},
   "source": [
    "To instantiate a CR3BP scenario, provide the primary body's mass, secondary body's mass, and the (assumed constant) distance between them as AstroPy units of kg, kg, and km respectively."
   ]
  },
  {
   "cell_type": "code",
   "execution_count": 2,
   "id": "a9b59559",
   "metadata": {},
   "outputs": [],
   "source": [
    "EM = CR3BP(Earth.mass, Moon.mass, 384400*u.km)"
   ]
  },
  {
   "cell_type": "markdown",
   "id": "dd749cfd",
   "metadata": {},
   "source": [
    "Let's explore some of the attributes of our object using the CR3BP.summary() method. This prints several attributes and plots a sketch of the system with Lagrange points shown. For differently sized and spaced bodies, the positions of the collinear Lagrange points can shift considerably."
   ]
  },
  {
   "cell_type": "code",
   "execution_count": 3,
   "id": "daec7a52",
   "metadata": {},
   "outputs": [
    {
     "name": "stdout",
     "output_type": "stream",
     "text": [
      "CR3BP constant (μ):  0.012150584709882378\n",
      "  -  Note: μ is defined as m2 / (m1 + m2)\n",
      "Primary body mass (m1): 5.972168e+24 kg\n",
      "Secondary body mass (m2): 7.345789e+22 kg\n",
      "Primary-Secondary distance:  384400.0 km\n",
      "L1 position (non-dimensional): 0.836915\n",
      "L2 position (non-dimensional): 1.155682\n"
     ]
    },
    {
     "data": {
      "image/png": "[encoded data removed]",
      "text/plain": [
       "<Figure size 432x288 with 1 Axes>"
      ]
     },
     "metadata": {
      "needs_background": "light"
     },
     "output_type": "display_data"
    }
   ],
   "source": [
    "EM_fig, EM_ax = EM.summary()"
   ]
  },
  {
   "cell_type": "markdown",
   "id": "a43cf5a6",
   "metadata": {},
   "source": [
    "In the summary above, the L1 and L2 positions are given in non-dimensional units. What are these? Quantities in these scenarios are often normalized to non-dimensional units to avoid performing computations with very large or very small numbers. This helps preserve the validity of numerical methods that are used to propagate these trajectories. Numerical methods are required because there is no closed-form analytical solution for the motion of an object in these dynamics. \n",
    "\n",
    "In order to navigate the conversion between conventional and non-dimensional units, you can use the CR3BP.convert() method, as shown below:"
   ]
  },
  {
   "cell_type": "code",
   "execution_count": 9,
   "id": "4fd68f2b",
   "metadata": {},
   "outputs": [
    {
     "name": "stdout",
     "output_type": "stream",
     "text": [
      "L1 position (non-dimensional):  0.8369151301995564\n",
      "L1 position (in kilometers):  321710.1760487095 km\n",
      "L1 position (in meters):  321710176.0487095 m\n",
      "L1 position (in parsecs):  1.0425916757421583e-08 pc\n"
     ]
    }
   ],
   "source": [
    "L1_nondim = EM.xL['L1']\n",
    "print('L1 position (non-dimensional): ',EM.xL['L1'])\n",
    "\n",
    "L1_km = EM.convert(L1_nondim, to='km')\n",
    "print('L1 position (in kilometers): ', L1_km)\n",
    "\n",
    "L1_m = EM.convert(L1_nondim, to='m')\n",
    "print('L1 position (in meters): ', L1_m)\n",
    "\n",
    "L1_pc = EM.convert(L1_nondim, to='parsec')\n",
    "print('L1 position (in parsecs): ', L1_pc)"
   ]
  },
  {
   "cell_type": "markdown",
   "id": "23fa7923",
   "metadata": {},
   "source": [
    "In this scenario, the following quantities are converted to nondimensional values:\n",
    "- Length (normalized by the primary-secondary distance)\n",
    "- Mass (normalized by the sum of the primary & secondary masses)\n",
    "- Time (normalized by the period of the primary-secondary orbit)\n",
    "- Any combination of these units (e.g. Velocity, Acceleration)\n",
    "\n",
    "The CR3BP.convert() method will also know how to convert values into nondimensional units if they are passed as AstroPy Quantities. For example:"
   ]
  },
  {
   "cell_type": "code",
   "execution_count": 20,
   "id": "13bfc8ad",
   "metadata": {},
   "outputs": [
    {
     "name": "stdout",
     "output_type": "stream",
     "text": [
      "In non-dimensional units,  77.0 km / h  is  0.020876439073891046\n",
      "In non-dimensional units,  209809.0 mm / d2  is  1.0292394020069435e-05\n",
      "In non-dimensional units,  1.0 yr  is  84.11092132325106\n"
     ]
    }
   ],
   "source": [
    "qty1 = 77*u.km/u.hr\n",
    "print('In non-dimensional units, ',qty1, ' is ', EM.convert(qty1))\n",
    "\n",
    "qty2 = 209809*u.mm/(u.d**2)\n",
    "print('In non-dimensional units, ',qty2, ' is ', EM.convert(qty2))\n",
    "\n",
    "qty3 = 1*u.yr\n",
    "print('In non-dimensional units, ',qty3, ' is ', EM.convert(qty3))\n"
   ]
  },
  {
   "cell_type": "markdown",
   "id": "c889fb95",
   "metadata": {},
   "source": [
    "It is also helpful to know how to use AstroPy to convert units using the Quantity.to() method, which is very handy:"
   ]
  },
  {
   "cell_type": "code",
   "execution_count": 22,
   "id": "573fb0e3",
   "metadata": {},
   "outputs": [
    {
     "name": "stdout",
     "output_type": "stream",
     "text": [
      "365.25 d\n"
     ]
    }
   ],
   "source": [
    "print( (1*u.yr).to('day') )"
   ]
  },
  {
   "cell_type": "code",
   "execution_count": null,
   "id": "c0a5d066",
   "metadata": {},
   "outputs": [],
   "source": []
  },
  {
   "cell_type": "code",
   "execution_count": null,
   "id": "b322643f",
   "metadata": {},
   "outputs": [],
   "source": []
  },
  {
   "cell_type": "code",
   "execution_count": null,
   "id": "265f2174",
   "metadata": {},
   "outputs": [],
   "source": []
  },
  {
   "cell_type": "code",
   "execution_count": null,
   "id": "8f26af01",
   "metadata": {},
   "outputs": [],
   "source": [
    "from timeit import timeit\n",
    "import matplotlib.pyplot as plt\n",
    "%matplotlib inline"
   ]
  },
  {
   "cell_type": "code",
   "execution_count": null,
   "id": "a1c5c75d",
   "metadata": {},
   "outputs": [],
   "source": [
    "import matplotlib.pyplot as plt\n",
    "plt.rcParams['figure.figsize']=(20.0,10.0);\n",
    "\n",
    "fig, ax = EM.summary();\n",
    "\n",
    "sc = Spacecraft(EM, X0 = [0.84,0.01,0, 0,0,0])\n",
    "prop = Propagator(EM, sc, 'numbalsoda')\n",
    "T, X = sc.propagate(prop)\n",
    "dur = EM.convert(T[-1],to='day')\n",
    "\n",
    "ax.plot(X[0],X[1])\n",
    "ax.set_title('Spacecraft propagated over %0.2f days'%dur.value);\n",
    "# EM.convert(T[-1],to='day')"
   ]
  },
  {
   "cell_type": "code",
   "execution_count": null,
   "id": "c043c246",
   "metadata": {},
   "outputs": [],
   "source": [
    "%timeit T, X = sc.propagate(prop)"
   ]
  },
  {
   "cell_type": "code",
   "execution_count": null,
   "id": "6c494237",
   "metadata": {},
   "outputs": [],
   "source": [
    "import numpy as np\n",
    "import matplotlib.pyplot as plt\n",
    "plt.rcParams['figure.figsize']=(20.0,10.0)\n",
    "\n",
    "X1 = np.linspace(-0.05,0.05,10000)\n",
    "X2 = np.linspace(-1,1,10000)\n",
    "Y1 = np.sqrt(0.05**2-X1**2)\n",
    "Y2 = np.sqrt(1-X2**2)\n",
    "\n",
    "fig, ax = plt.subplots()\n",
    "ax.plot(X1,Y1,'--k')\n",
    "ax.plot(X1,-Y1,'--k')\n",
    "ax.plot(X2,Y2,'--k')\n",
    "ax.plot(X2,-Y2,'--k')\n",
    "ax.plot([-1.2,1.2],[0,0],'k')\n",
    "ax.plot([0,0],[-1.2,1.2],'k')\n",
    "ax.scatter(1,0,fc='k',s=50)\n",
    "ax.scatter(-0.05,0,fc='k',s=150)\n",
    "ax.plot(0.9,0,'kx')\n",
    "ax.text(0.88,0.05,'L1')\n",
    "ax.plot(1.1,0,'kx')\n",
    "ax.text(1.08,0.05,'L2')\n",
    "ax.plot(-1,0,'kx')\n",
    "ax.text(-0.95,0.05,'L3')\n",
    "ax.plot(0.45,np.sqrt(1-0.45**2),'kx')\n",
    "ax.text(0.45+0.05,np.sqrt(1-0.45**2)+0.05,'L4')\n",
    "ax.plot(0.45,-np.sqrt(1-0.45**2),'kx')\n",
    "ax.text(0.45+0.05,-np.sqrt(1-0.45**2)-0.05,'L5')\n",
    "\n",
    "ax.text(0.4,-0.05,'X axis')\n",
    "ax.text(-0.05,0.4,'Y axis', rotation=90)\n",
    "\n",
    "ax.scatter(0,0,fc='w',ec='k')\n",
    "ax.set(xlim=[-1.2,1.2],ylim=[-1.2,1.2])\n",
    "ax.set_aspect('equal')\n",
    "ax.set_title('The Circular Restricted Three Body Problem',fontsize=20);"
   ]
  },
  {
   "cell_type": "code",
   "execution_count": null,
   "id": "ed57c10f",
   "metadata": {},
   "outputs": [],
   "source": [
    "a_earth = 1.0 * u.au  # km - 1 AU\n",
    "\n",
    "# Use Poliastro to get body masses: Earth, Moon\n",
    "# Then instantiate the CR3BP using the Synodic (rotating) Barycentric reference frame\n",
    "frame = CR3BP(Sun.mass, Earth.mass, a_earth)\n",
    "\n",
    "mu = frame.mu\n",
    "xL, yL = frame.xL['L1'], frame.yL['L1']\n",
    "ac = frame.convert((0.26 * u.mm/(u.s**2)).to('km/s2'))\n",
    "sc = Spacecraft(frame, ar=ac, at=ac)\n",
    "sc.set_initial_state([sc.xL_aug-1e-6, 1e-6, 1e-6, 0, 0, 0])\n",
    "K_xy  = 1\n",
    "K_z   = 2\n",
    "db_xy = 0.0003\n",
    "db_z  = 0.003\n",
    "sc.set_thrust_profile('sail_control', sc.xL_aug, K_xy, K_z, db_xy, db_z)\n",
    "\n",
    "# print(sc.controller_params)\n",
    "prop = Propagator(frame, sc, method='numbalsoda', )\n"
   ]
  },
  {
   "cell_type": "code",
   "execution_count": null,
   "id": "0483cb15",
   "metadata": {},
   "outputs": [],
   "source": [
    "T, X = prop.integrate(2*np.pi)\n",
    "plt.plot(X[0],X[1])\n",
    "plt.show()"
   ]
  },
  {
   "cell_type": "code",
   "execution_count": null,
   "id": "757bc4fe",
   "metadata": {},
   "outputs": [],
   "source": [
    "def num_sails(side_length, target_dist, percent_reduction=1.8):\n",
    "    # Calculate subtended solid angle of the sun from the Earth\n",
    "    R_sun = Sun.R.to('km').value\n",
    "    D_sun = (1*u.au).to('km').value\n",
    "    th_sun = np.arctan2(R_sun,D_sun)*u.rad\n",
    "    sa_sun = 4*np.pi*np.sin(th_sun/2)**2 * u.sr\n",
    "    # Calculate subtended solid angle of a single sail from the Earth\n",
    "    R_sail = side_length.to('m')\n",
    "    D_sail = target_dist.to('m')\n",
    "    th_sail = np.arctan2(R_sail,D_sail)\n",
    "    sa_sail = (th_sail**2).to('sr')\n",
    "    # Determine number of sails needed to subtend a given amount \n",
    "    # (percent_reduction) of the sun's subtended area\n",
    "    num_sails = int(np.ceil(((percent_reduction/100)/(sa_sail/sa_sun)).value))\n",
    "    return \"{:,} sailcraft\".format(num_sails) + \\\n",
    "           \" with %0.1f m^2 sail areas\"%(side_length.to('m').value**2) + \\\n",
    "           \" at a distance of {:,} km would be needed\".format(\n",
    "                np.round(target_dist.to('km').value)) + \\\n",
    "           \" for a %0.2f%% reduction in solar irradiance\"%(percent_reduction)"
   ]
  },
  {
   "cell_type": "code",
   "execution_count": null,
   "id": "8c01aa1b",
   "metadata": {},
   "outputs": [],
   "source": [
    "xL_aug_dist = frame.convert((1-frame.mu),to='m') - frame.convert(sc.xL_aug,to='m')\n",
    "xL_dist = frame.convert((1-frame.mu),to='m') - frame.convert(frame.xL['L1'],to='m')\n",
    "num_sails(100*u.m, xL_aug_dist)"
   ]
  },
  {
   "cell_type": "code",
   "execution_count": null,
   "id": "a34b8215",
   "metadata": {},
   "outputs": [],
   "source": [
    "num_sails(20*u.m, xL_dist)"
   ]
  },
  {
   "cell_type": "code",
   "execution_count": null,
   "id": "caba55da",
   "metadata": {},
   "outputs": [],
   "source": [
    "num_sails(20*u.m, xL_dist/3)"
   ]
  },
  {
   "cell_type": "code",
   "execution_count": null,
   "id": "42b8db8e",
   "metadata": {},
   "outputs": [],
   "source": [
    "frame2 = CR3BP(Earth.mass, Moon.mass, 384400*u.km)"
   ]
  },
  {
   "cell_type": "code",
   "execution_count": null,
   "id": "d853070a",
   "metadata": {},
   "outputs": [],
   "source": [
    "frame2.convert(frame2.xL['L2'],to='km')"
   ]
  },
  {
   "cell_type": "code",
   "execution_count": null,
   "id": "644eca78",
   "metadata": {},
   "outputs": [],
   "source": [
    "x_tgt = ((1-frame.mu) - ((1-frame.mu)-frame.xL['L1'])/0.5).value\n",
    "print('x_tgt:  ', x_tgt)\n",
    "print('xL:     ', frame.xL['L1'])\n",
    "print('xL_aug: ', sc.xL_aug)"
   ]
  },
  {
   "cell_type": "code",
   "execution_count": null,
   "id": "c44091d7",
   "metadata": {},
   "outputs": [],
   "source": [
    "x_tgt=0.99\n",
    "X0 = [x_tgt+10e-6, -10e-6, 0, 0, 0, 0]\n",
    "sc.set_initial_state(X0)\n",
    "K_xy  = 1000\n",
    "K_z   = 1\n",
    "db_xy = 0.0001\n",
    "db_z  = 0.001\n",
    "sc.set_thrust_profile('sail_control', x_tgt, K_xy, K_z, db_xy, db_z)\n",
    "T, X = sc.propagate(prop,t_max=2*np.pi, n=1000)"
   ]
  },
  {
   "cell_type": "code",
   "execution_count": null,
   "id": "e654b41a",
   "metadata": {},
   "outputs": [],
   "source": [
    "plt.plot(X[0],X[1])\n",
    "plt.plot(X[0][0],X[1][0],'ro')\n",
    "plt.plot(x_tgt,0,'kx')"
   ]
  },
  {
   "cell_type": "code",
   "execution_count": null,
   "id": "0f20f456",
   "metadata": {},
   "outputs": [],
   "source": [
    "ddX = CR3BP_EOM(frame.mu.value, np.array(X0,np.float64))\n",
    "print(ddX)\n",
    "print(ac)"
   ]
  },
  {
   "cell_type": "code",
   "execution_count": null,
   "id": "7f383f92",
   "metadata": {},
   "outputs": [],
   "source": [
    "a_x, a_y, a_z, error, beta = sail_control_diagnostic(X, sc.ar, sc.at, x_tgt, K_xy, K_z, db_xy, db_z)\n",
    "plt.subplot(321)\n",
    "plt.plot(a_x)\n",
    "plt.subplot(323)\n",
    "plt.plot(a_y)\n",
    "plt.subplot(325)\n",
    "plt.plot(a_z)\n",
    "\n",
    "plt.subplot(322)\n",
    "plt.plot(error)\n",
    "plt.subplot(324)\n",
    "plt.plot(beta)\n",
    "plt.ylim([0,2*np.pi])\n",
    "plt.yticks([0,3.14,6.28]);"
   ]
  },
  {
   "cell_type": "code",
   "execution_count": null,
   "id": "bbe6f6ec",
   "metadata": {},
   "outputs": [],
   "source": [
    "plt.plot(0.5*np.pi*(1 - np.tanh(1e5*error)))"
   ]
  },
  {
   "cell_type": "code",
   "execution_count": null,
   "id": "2d26c120",
   "metadata": {},
   "outputs": [],
   "source": [
    "periodic"
   ]
  },
  {
   "cell_type": "code",
   "execution_count": null,
   "id": "022043d4",
   "metadata": {},
   "outputs": [],
   "source": []
  }
 ],
 "metadata": {
  "kernelspec": {
   "display_name": "Python 3 (ipykernel)",
   "language": "python",
   "name": "python3"
  },
  "language_info": {
   "codemirror_mode": {
    "name": "ipython",
    "version": 3
   },
   "file_extension": ".py",
   "mimetype": "text/x-python",
   "name": "python",
   "nbconvert_exporter": "python",
   "pygments_lexer": "ipython3",
   "version": "3.10.5"
  }
 },
 "nbformat": 4,
 "nbformat_minor": 5
}
